{
 "cells": [
  {
   "cell_type": "code",
   "execution_count": 1,
   "metadata": {},
   "outputs": [],
   "source": [
    "import dotenv\n",
    "import os\n",
    "import re\n",
    "import openai\n",
    "dotenv.load_dotenv(\"./.env\")\n",
    "openai.api_key = os.getenv(\"OPENAI_API_KEY\")\n",
    "from tqdm import tqdm"
   ]
  },
  {
   "cell_type": "code",
   "execution_count": 2,
   "metadata": {},
   "outputs": [
    {
     "name": "stderr",
     "output_type": "stream",
     "text": [
      "[nltk_data] Downloading package punkt to /Users/nelsonlin/nltk_data...\n",
      "[nltk_data]   Package punkt is already up-to-date!\n"
     ]
    }
   ],
   "source": [
    "from utils import split_context_to_list\n",
    "import utils"
   ]
  },
  {
   "cell_type": "markdown",
   "metadata": {},
   "source": [
    "## (1) Gathering Knowledge"
   ]
  },
  {
   "cell_type": "markdown",
   "metadata": {},
   "source": [
    "reference: https://www.sc.com/hk/credit-cards/smart/"
   ]
  },
  {
   "cell_type": "code",
   "execution_count": 3,
   "metadata": {},
   "outputs": [],
   "source": [
    "document_1 = \"\"\"\n",
    "\n",
    "Smart Card 3-month Interest-free Instalment Remarks\n",
    "\n",
    "^For spending amounts that are not eligible to earn CashBack (e.g. bill payment transactions made through Standard Chartered Online Banking), the Bank will also deduct HKD1 CashBack for every HKD180 instalment amount applied. Where there is insufficient CashBack balance on the 360° Rewards Redemption Platform for deduction, a negative balance will be displayed.\n",
    "8% CashBack at Klook\n",
    "\n",
    "From now till 31 March 2023, enjoy 8% CashBack at Klook with Smart Card. No registration and minimum spending requirement.\n",
    "TOTAL PERCENTAGE OF CASHBACK EARNED FOR EACH REWARD CATEGORY\n",
    "\t\n",
    "OFFER PERIOD\n",
    "\t\n",
    "COMPONENTS FOR TOTAL PERCENTAGE OF CASHBACK EARNED\n",
    "\t\n",
    "TOTAL MAXIMUM CASHBACK EARNED DURING ENTIRE PROMOTION PERIOD\n",
    "8% Eligible Merchant Transactions made at Klook \t1 February 2023 to 31 March 2023 \t3% under Klook offer +5% under DesignatedMerchants of SmartCard Rewards Scheme \tHKD800\n",
    "Note\n",
    "\n",
    "A. Details of the offer is as follows:\n",
    "\n",
    "B. A maximum CashBack of HKD800 can be earned per card account under the Klook 8% CashBack Offer within the promotion period.\n",
    "\n",
    "C. No registration, no minimum spending required and available every day.\n",
    "\n",
    "D. For more details, please refer to Standard Chartered Smart Credit Card 8% CashBack Klook Offer Terms and Conditions.\n",
    "Smart Card Welcome Offer\n",
    "\n",
    "    From 28 February 2023 to 29 June 2023.\n",
    "    New Cardholders are applicants who do not currently hold and have not cancelled any principal card of Standard Chartered Credit Card or MANHATTAN Credit Card issued by Standard Chartered Bank (Hong Kong) Limited (the “Bank”) in the past 6 months from the date of approval of their current applications for a principal card of the Standard Chartered Credit Cards.\n",
    "    “Eligible Transactions” are retail purchases (including both local and overseas transactions), online purchase or posted amount of instalment purchase but do not include without limitation cash advances, gambling tokens, insurance payment, bill payment (including but without limitation tax and utilities payment) via Internet/ATMs/Phone Banking Services or other available means, any money/electronic money transfer (including but not limited to any transfer made via person to person (P2P) payment services or mobile device/app/electronic funds transfer platform), unposted/cancelled/refunded/falsified/unauthorized transactions, any transfer/top up transaction from eligible cards to any account designed by the Bank from time to time, including but not limited to Octopus O!ePay, Alipay account and other digital payment account as may be made available by the Bank from time to time.\n",
    "    For the terms and conditions of the Welcome Offer, please click here.\n",
    "\n",
    "*Smart Card Features\n",
    "\n",
    "Ⓐ Promotion period: From 1 January to 31 December 2023\n",
    "\n",
    "Ⓑ Upon successfully signing up for and issued with a Standard Chartered Smart Credit Card, the Bank will rebate a certain percentage of the amount of the Eligible Transactions in the form of CashBack to the card account as shown in the list below.\n",
    "\n",
    "Ⓒ Eligible Transactions made at below Designated Merchants can earn HKD1 CashBack for every HKD20 spent (5% CashBack percentage)\n",
    "\n",
    "    759 STORE\n",
    "    Circle K Convenience Store\n",
    "    HKTVmall retail stores & eShop\n",
    "    Japan Home Centre retail stores & eShop\n",
    "    Klook\n",
    "    McDonald’s® & McDonald’s App\n",
    "    PARKnSHOP, its designated retail stores (FUSION, TASTE, INTERNATIONAL, food le parc, GOURMET, GREAT FOOD HALL, EXPRESS and PARKnSHOP Frozen Food Stores outlets) & PARKnSHOP eShop\n",
    "    Sa Sa retail stores & eShop\n",
    "    Watsons retail stores & eShop\n",
    "    Online video streaming platforms: Amazon Prime Video, Disney+, Netflix, Now TV\n",
    "    Online music streaming platforms: JOOX, KKBOX, MOOV, Spotify\n",
    "\n",
    "Ⓓ Other eligible transactions can earn HKD1 CashBack for every HKD180 spent (0.56% Cashback Percentage)\n",
    "\n",
    "Ⓔ The total maximum amount of Eligible Transactions made at Designated Merchants that qualifies for the 5% CashBack Percentage is HKD60,000 per Card account within the promotion period. Eligible Transactions made at Designated Merchants must be completed and posted on or before 31 December 2023 based on the transaction dates as shown on the credit card monthly statement, and the Designated Merchants’ name (as determined at the Bank’s absolute discretion) must be reflected as part of the transaction descriptions on such credit card monthly statement. Any amount in excess of the HKD60,000 cap will be counted as Other Eligible Transactions.\n",
    "\n",
    "Ⓕ For more details, please refer to Standard Chartered Smart Credit Card Rewards Scheme Terms and Conditions: https://av.sc.com/hk/zh/content/docs/hk-promo-smart-tnc.pdf.\n",
    "\n",
    "\"\"\""
   ]
  },
  {
   "cell_type": "code",
   "execution_count": 4,
   "metadata": {},
   "outputs": [],
   "source": [
    "document_2  = \"\"\"\n",
    "\n",
    "Year-round Offer\n",
    "3-month 0% Interest Instalment\n",
    "\n",
    "Stress-free spending, split your credit card bills with 3-month interest-free instalment\n",
    "Massive 5% Rebate\n",
    "\n",
    "On designated everyday merchants. No registration, no minimum spending, available every day*.\n",
    "Fees, Goodbye!\n",
    "\n",
    "No foreign exchange fees, no annual fees, no cash advance fees. Ever.\n",
    "\"\"\""
   ]
  },
  {
   "cell_type": "code",
   "execution_count": 5,
   "metadata": {},
   "outputs": [],
   "source": [
    "document_3 = \"\"\"\n",
    "Credit Card Welcome offer HKD1,200\n",
    "\n",
    "    From 28 February 2023 to 29 June 2023, New Cardholders² can enjoy HK$1,200 CashBack upon making Accumulated Eligible Transactions³ of HKD4,000 within the first month from the date of issuance.\n",
    "\"\"\""
   ]
  },
  {
   "cell_type": "code",
   "execution_count": 6,
   "metadata": {},
   "outputs": [],
   "source": [
    "document_4 = \"\"\"\n",
    "\n",
    "8% CashBack at Klook\n",
    "\n",
    "    From now till 31 March 2023, enjoy 8% CashBack at Klook with Smart Card. No registration and minimum spending requirement.\n",
    "\n",
    "    Learn More about the Smart Card Klook Offer\n",
    "\n",
    "\n",
    "\"\"\""
   ]
  },
  {
   "cell_type": "code",
   "execution_count": 7,
   "metadata": {},
   "outputs": [],
   "source": [
    "document_5 = \"\"\"\n",
    "\n",
    "3-month interest free instalment\n",
    "\n",
    "    No handling fee, no interest, no instalment quota\n",
    "\n",
    "    Enjoy shopping with easy repayments! In just a few clicks, you can split your credit card bills in 3 months, through instalments with no interest and no handling fees, for retail spending over HK$500 or above.\n",
    "\n",
    "    Example:\n",
    "    Card spending: $9,000\n",
    "    Instalment Tenor: 3 months\n",
    "    Monthly repayment = $9,000/3 = $3,000\n",
    "    Total repayment amount = $9,000\n",
    "\n",
    "    Note: The Bank will deduct HKD1 CashBack on the 360° Rewards Redemption Platform for every HKD180 instalment amount applied. Example: For an instalment amount of HKD9,000, the Bank will deduct HKD50 CashBack.^\n",
    "\n",
    "    If you select tenor of 6 months or above, the handling fee is as low as 0.15%. Click to learn more for our Statement Instalment Plan: https://www.sc.com/hk/credit-cards/statement-instalment-plan/.\n",
    "\n",
    "\"\"\""
   ]
  },
  {
   "cell_type": "code",
   "execution_count": 8,
   "metadata": {},
   "outputs": [],
   "source": [
    "documents = [document_1,document_2,document_3,document_4,document_5]\n"
   ]
  },
  {
   "cell_type": "markdown",
   "metadata": {},
   "source": [
    "## (2) Split documents into chunks"
   ]
  },
  {
   "cell_type": "code",
   "execution_count": 9,
   "metadata": {},
   "outputs": [],
   "source": [
    "document_name = \"standard chartered bank smart credit card\""
   ]
  },
  {
   "cell_type": "code",
   "execution_count": 10,
   "metadata": {},
   "outputs": [],
   "source": [
    "def post_process(sentence):\n",
    "    sentence = sentence.strip()\n",
    "    sentence = f\"These are the facts about {document_name}: {sentence}\"\n",
    "    return sentence"
   ]
  },
  {
   "cell_type": "code",
   "execution_count": 11,
   "metadata": {},
   "outputs": [],
   "source": [
    "document_list = [document_1,document_2,document_3,document_4,document_5]"
   ]
  },
  {
   "cell_type": "code",
   "execution_count": 12,
   "metadata": {},
   "outputs": [],
   "source": [
    "knowldege = []\n",
    "for document in document_list:\n",
    "    sentences = split_context_to_list(document_1)\n",
    "    _ = [knowldege.append(post_process(s)) for s in sentences]"
   ]
  },
  {
   "cell_type": "code",
   "execution_count": 13,
   "metadata": {},
   "outputs": [],
   "source": [
    "\"\"\"Design the prompt\"\"\"\n",
    "def generate_prompt(context):\n",
    "\n",
    "    question = f\"I've shared some facts about {document_name} with you.\"+\"\"\"Please generate so many as possible pairs of questions and answers drived from facts.Please restricly follow this format 1) Q:{question},A:{answer};2)Q:{question},A:{answer}...\"\"\"\n",
    "\n",
    "    messages = [\n",
    "        {\"role\": \"system\", \"content\": \"You are a helpful assistant and able to find the questions that user may be interested in.\"},\n",
    "        {\"role\": \"user\", \"content\": context}]\n",
    "\n",
    "    messages.append({\"role\": \"assistant\", \"content\": question})\n",
    "\n",
    "    response = openai.ChatCompletion.create(\n",
    "        model=\"gpt-3.5-turbo\",\n",
    "        messages=messages\n",
    "    )\n",
    "\n",
    "    # return response\n",
    "\n",
    "    answer = response['choices'][0]['message']['content']\n",
    "    return answer"
   ]
  },
  {
   "cell_type": "markdown",
   "metadata": {},
   "source": [
    "## (3) Generate Qustions and Answers For Training"
   ]
  },
  {
   "cell_type": "code",
   "execution_count": 15,
   "metadata": {},
   "outputs": [],
   "source": [
    "prompt_generated_list = []\n",
    "for context in tqdm(knowldege):\n",
    "    prompt_generated = generate_prompt(context)\n",
    "    prompt_generated_list.append(prompt_generated)"
   ]
  },
  {
   "cell_type": "code",
   "execution_count": 86,
   "metadata": {},
   "outputs": [],
   "source": [
    "context_list = knowldege[:len(prompt_generated_list)]"
   ]
  },
  {
   "cell_type": "code",
   "execution_count": 90,
   "metadata": {},
   "outputs": [],
   "source": [
    "utils.save_json(context_list, \"context_list.json\")"
   ]
  },
  {
   "cell_type": "code",
   "execution_count": 91,
   "metadata": {},
   "outputs": [],
   "source": [
    "utils.save_json(prompt_generated_list, \"prompt_generated_list.json\")"
   ]
  },
  {
   "cell_type": "markdown",
   "metadata": {},
   "source": [
    "## (4) Prepare data for training"
   ]
  },
  {
   "cell_type": "code",
   "execution_count": 108,
   "metadata": {},
   "outputs": [],
   "source": [
    "tuning_dataset = []\n",
    "for response,context in zip(prompt_generated_list,context_list):\n",
    "    questions = re.findall(\"Q:(.+\\?)\",response)\n",
    "    questions = [q.strip()  for q in questions]\n",
    "    answers = re.findall(\"A:(.+\\.)\",response)\n",
    "    answers = [a.strip() for a in answers]\n",
    "    for q,a in zip(questions,answers):\n",
    "        item_dict = {\"instruction\":q,'input':\"Answer questions about {document_name}: \"+context,\"output\":a}\n",
    "        tuning_dataset.append(item_dict)\n"
   ]
  }
 ],
 "metadata": {
  "kernelspec": {
   "display_name": "conda_pytorch_p39",
   "language": "python",
   "name": "conda_pytorch_p39"
  },
  "language_info": {
   "codemirror_mode": {
    "name": "ipython",
    "version": 3
   },
   "file_extension": ".py",
   "mimetype": "text/x-python",
   "name": "python",
   "nbconvert_exporter": "python",
   "pygments_lexer": "ipython3",
   "version": "3.9.15"
  }
 },
 "nbformat": 4,
 "nbformat_minor": 4
}
